{
 "cells": [
  {
   "cell_type": "code",
   "execution_count": 1,
   "metadata": {
    "collapsed": true,
    "pycharm": {
     "is_executing": false
    }
   },
   "outputs": [],
   "source": [
    "from cutest import fixture, test, suite\n",
    "\n",
    "\n",
    "@suite\n",
    "def my_suite():\n",
    "    test_1()\n",
    "    with fix_1():\n",
    "        test_2()\n",
    "        with fix_2():\n",
    "            test_3()\n",
    "            test_4()\n",
    "        test_5()\n",
    "\n",
    "\n",
    "@test\n",
    "def test_1():\n",
    "    pass\n",
    "\n",
    "\n",
    "@test\n",
    "def test_2():\n",
    "    pass\n",
    "\n",
    "\n",
    "@test\n",
    "def test_3():\n",
    "    pass\n",
    "\n",
    "\n",
    "@test\n",
    "def test_4():\n",
    "    pass\n",
    "\n",
    "\n",
    "@test\n",
    "def test_5():\n",
    "    pass\n",
    "\n",
    "\n",
    "@fixture\n",
    "def fix_1():\n",
    "    print('enter fix_1')\n",
    "    yield\n",
    "    print('exit fix_1')\n",
    "\n",
    "@fixture\n",
    "class fix_2:\n",
    "\n",
    "    def __enter__(self):\n",
    "        print('enter fix_1')\n",
    "\n",
    "    def __exit__(self, exc_type, exc_val, exc_tb):\n",
    "        print('exit fix_1')\n",
    "        return False"
   ]
  },
  {
   "cell_type": "code",
   "execution_count": 2,
   "outputs": [],
   "source": [
    "my_suite.build_graph()"
   ],
   "metadata": {
    "collapsed": false,
    "pycharm": {
     "name": "#%%\n",
     "is_executing": false
    }
   }
  },
  {
   "cell_type": "code",
   "execution_count": 3,
   "outputs": [
    {
     "name": "stdout",
     "text": [
      " _Suite my_suite\n   _Test test_1\n   _Fixture fix_1\n     _Test test_2\n     _Fixture fix_2\n       _Test test_3\n       _Test test_4\n     _Test test_5\n"
     ],
     "output_type": "stream"
    }
   ],
   "source": [
    "my_suite.print_graph()"
   ],
   "metadata": {
    "collapsed": false,
    "pycharm": {
     "name": "#%%\n",
     "is_executing": false
    }
   }
  }
 ],
 "metadata": {
  "kernelspec": {
   "display_name": "Python 3",
   "language": "python",
   "name": "python3"
  },
  "language_info": {
   "codemirror_mode": {
    "name": "ipython",
    "version": 2
   },
   "file_extension": ".py",
   "mimetype": "text/x-python",
   "name": "python",
   "nbconvert_exporter": "python",
   "pygments_lexer": "ipython2",
   "version": "2.7.6"
  },
  "pycharm": {
   "stem_cell": {
    "cell_type": "raw",
    "source": [],
    "metadata": {
     "collapsed": false
    }
   }
  }
 },
 "nbformat": 4,
 "nbformat_minor": 0
}