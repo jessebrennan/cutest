{
 "cells": [
  {
   "cell_type": "code",
   "execution_count": 1,
   "metadata": {
    "collapsed": true,
    "pycharm": {
     "is_executing": false
    }
   },
   "outputs": [],
   "source": [
    "from cutest import Model, Runner\n",
    "\n",
    "cu = Model()\n",
    "\n",
    "@cu.suite\n",
    "def my_suite():\n",
    "    test_1()\n",
    "    with fix_1():\n",
    "        test_2()\n",
    "        with fix_2() as f2:\n",
    "            test_3(f2)\n",
    "            test_4()\n",
    "        test_5()\n",
    "\n",
    "\n",
    "@cu.test\n",
    "def test_1():\n",
    "    print('test 1')\n",
    "\n",
    "\n",
    "@cu.test\n",
    "def test_2():\n",
    "    print('test 2')\n",
    "\n",
    "\n",
    "@cu.test\n",
    "def test_3(f2):\n",
    "    print('test 3 start')\n",
    "    f2.fix_method()\n",
    "    print('test 3 end')\n",
    "\n",
    "\n",
    "@cu.test\n",
    "def test_4():\n",
    "    print('test 4')\n",
    "\n",
    "\n",
    "@cu.test\n",
    "def test_5():\n",
    "    print('test 5')\n",
    "\n",
    "\n",
    "@cu.fixture\n",
    "def fix_1():\n",
    "    print('enter fix_1')\n",
    "    yield\n",
    "    print('exit fix_1')\n",
    "\n",
    "@cu.fixture\n",
    "class fix_2:\n",
    "\n",
    "    def __enter__(self):\n",
    "        print('enter fix_2')\n",
    "        return self\n",
    "\n",
    "    def __exit__(self, exc_type, exc_val, exc_tb):\n",
    "        print('exit fix_2')\n",
    "        return False\n",
    "\n",
    "    def fix_method(self):\n",
    "        print('fix_2 method')"
   ]
  },
  {
   "cell_type": "code",
   "execution_count": 2,
   "outputs": [],
   "source": [
    "my_suite.initialize()"
   ],
   "metadata": {
    "collapsed": false,
    "pycharm": {
     "name": "#%%\n",
     "is_executing": false
    }
   }
  },
  {
   "cell_type": "code",
   "execution_count": 3,
   "outputs": [
    {
     "traceback": [
      "\u001b[0;31m---------------------------------------------------------------------------\u001b[0m",
      "\u001b[0;31mAttributeError\u001b[0m                            Traceback (most recent call last)",
      "\u001b[0;32m<ipython-input-3-be11aaba04d7>\u001b[0m in \u001b[0;36m<module>\u001b[0;34m\u001b[0m\n\u001b[1;32m      1\u001b[0m \u001b[0mrunner\u001b[0m \u001b[0;34m=\u001b[0m \u001b[0mRunner\u001b[0m\u001b[0;34m(\u001b[0m\u001b[0;34m)\u001b[0m\u001b[0;34m\u001b[0m\u001b[0;34m\u001b[0m\u001b[0m\n\u001b[0;32m----> 2\u001b[0;31m \u001b[0mrunner\u001b[0m\u001b[0;34m.\u001b[0m\u001b[0mrun\u001b[0m\u001b[0;34m(\u001b[0m\u001b[0mmy_suite\u001b[0m\u001b[0;34m)\u001b[0m\u001b[0;34m\u001b[0m\u001b[0;34m\u001b[0m\u001b[0m\n\u001b[0m\u001b[1;32m      3\u001b[0m \u001b[0;34m\u001b[0m\u001b[0m\n\u001b[1;32m      4\u001b[0m \u001b[0;34m\u001b[0m\u001b[0m\n",
      "\u001b[0;31mAttributeError\u001b[0m: 'Runner' object has no attribute 'run'"
     ],
     "ename": "AttributeError",
     "evalue": "'Runner' object has no attribute 'run'",
     "output_type": "error"
    }
   ],
   "source": [
    "runner = Runner()\n",
    "runner.run(my_suite)\n"
   ],
   "metadata": {
    "collapsed": false,
    "pycharm": {
     "name": "#%%\n",
     "is_executing": false
    }
   }
  },
  {
   "cell_type": "code",
   "execution_count": null,
   "outputs": [],
   "source": [
    "cu.initialize()\n",
    "runner.run_model(cu)"
   ],
   "metadata": {
    "collapsed": false,
    "pycharm": {
     "name": "#%%\n",
     "is_executing": false
    }
   }
  },
  {
   "cell_type": "code",
   "execution_count": null,
   "outputs": [],
   "source": [
    "# @cu.suite\n",
    "def my_suite2():\n",
    "    with fix_2() as f2:   \n",
    "        f2.fix_method()\n",
    "        test_1()\n",
    "\n",
    "# my_suite2.initialize()"
   ],
   "metadata": {
    "collapsed": false,
    "pycharm": {
     "name": "#%%\n",
     "is_executing": false
    }
   }
  },
  {
   "cell_type": "code",
   "execution_count": null,
   "outputs": [],
   "source": [
    "# @cu.suite\n",
    "def my_suite2():\n",
    "    with fix_2() as f2:   \n",
    "        f2.fix_method()\n",
    "        test_1()\n",
    "\n",
    "# my_suite2.initialize()"
   ],
   "metadata": {
    "collapsed": false,
    "pycharm": {
     "name": "#%%\n",
     "is_executing": false
    }
   }
  }
 ],
 "metadata": {
  "kernelspec": {
   "display_name": "Python 3",
   "language": "python",
   "name": "python3"
  },
  "language_info": {
   "codemirror_mode": {
    "name": "ipython",
    "version": 2
   },
   "file_extension": ".py",
   "mimetype": "text/x-python",
   "name": "python",
   "nbconvert_exporter": "python",
   "pygments_lexer": "ipython2",
   "version": "2.7.6"
  },
  "pycharm": {
   "stem_cell": {
    "cell_type": "raw",
    "source": [],
    "metadata": {
     "collapsed": false
    }
   }
  }
 },
 "nbformat": 4,
 "nbformat_minor": 0
}